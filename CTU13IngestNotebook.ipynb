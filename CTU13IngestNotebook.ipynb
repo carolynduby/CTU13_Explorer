{
 "cells": [
  {
   "cell_type": "code",
   "execution_count": 1,
   "id": "fcfd434b-7f07-4377-a857-3356b7d7a600",
   "metadata": {},
   "outputs": [
    {
     "name": "stdout",
     "output_type": "stream",
     "text": [
      "Ingesting logs: s3a://go01-demo/user/cduby/ctu13_2024_3/\n"
     ]
    },
    {
     "name": "stderr",
     "output_type": "stream",
     "text": [
      "Setting spark.hadoop.yarn.resourcemanager.principal to cduby\n"
     ]
    },
    {
     "name": "stdout",
     "output_type": "stream",
     "text": [
      "Dataset CTU-Malware-Capture-Botnet-42\n",
      "CTU-Malware-Capture-Botnet-42 binary_netflow: Start\n",
      "CTU-Malware-Capture-Botnet-42 binary_netflow: Writing to table cyber_ctu.ctu_binetflow\n"
     ]
    },
    {
     "name": "stderr",
     "output_type": "stream",
     "text": [
      "Hive Session ID = 41e435c4-574f-4839-a606-1c676b587c3c\n"
     ]
    },
    {
     "name": "stdout",
     "output_type": "stream",
     "text": [
      "Creating table cyber_ctu.ctu_binetflow\n"
     ]
    },
    {
     "name": "stderr",
     "output_type": "stream",
     "text": [
      "                                                                                \r"
     ]
    },
    {
     "name": "stdout",
     "output_type": "stream",
     "text": [
      "CTU-Malware-Capture-Botnet-42 binary_netflow: Done\n",
      "CTU-Malware-Capture-Botnet-42 dns: Start\n",
      "CTU-Malware-Capture-Botnet-42 dns: Writing to table cyber_ctu.ctu_zeek\n",
      "Creating table cyber_ctu.ctu_zeek\n"
     ]
    },
    {
     "name": "stderr",
     "output_type": "stream",
     "text": [
      "                                                                                \r"
     ]
    },
    {
     "name": "stdout",
     "output_type": "stream",
     "text": [
      "CTU-Malware-Capture-Botnet-42 dns: Done\n",
      "CTU-Malware-Capture-Botnet-42 http: Start\n",
      "CTU-Malware-Capture-Botnet-42 http: Writing to table cyber_ctu.ctu_zeek\n",
      "Table cyber_ctu.ctu_zeek exists. Merging columns\n",
      "Appending to table cyber_ctu.ctu_zeek\n"
     ]
    },
    {
     "name": "stderr",
     "output_type": "stream",
     "text": [
      "                                                                                \r"
     ]
    },
    {
     "name": "stdout",
     "output_type": "stream",
     "text": [
      "CTU-Malware-Capture-Botnet-42 http: Done\n",
      "Dataset CTU-Malware-Capture-Botnet-43\n",
      "CTU-Malware-Capture-Botnet-43 binary_netflow: Start\n",
      "CTU-Malware-Capture-Botnet-43 binary_netflow: Writing to table cyber_ctu.ctu_binetflow\n",
      "Table cyber_ctu.ctu_binetflow exists. Merging columns\n",
      "Appending to table cyber_ctu.ctu_binetflow\n"
     ]
    },
    {
     "name": "stderr",
     "output_type": "stream",
     "text": [
      "                                                                                \r"
     ]
    },
    {
     "name": "stdout",
     "output_type": "stream",
     "text": [
      "CTU-Malware-Capture-Botnet-43 binary_netflow: Done\n",
      "CTU-Malware-Capture-Botnet-43 dns: Start\n",
      "CTU-Malware-Capture-Botnet-43 dns: Writing to table cyber_ctu.ctu_zeek\n",
      "Table cyber_ctu.ctu_zeek exists. Merging columns\n",
      "Appending to table cyber_ctu.ctu_zeek\n"
     ]
    },
    {
     "name": "stderr",
     "output_type": "stream",
     "text": [
      "                                                                                \r"
     ]
    },
    {
     "name": "stdout",
     "output_type": "stream",
     "text": [
      "CTU-Malware-Capture-Botnet-43 dns: Done\n",
      "CTU-Malware-Capture-Botnet-43 http: Start\n",
      "CTU-Malware-Capture-Botnet-43 http: Writing to table cyber_ctu.ctu_zeek\n",
      "Table cyber_ctu.ctu_zeek exists. Merging columns\n",
      "Appending to table cyber_ctu.ctu_zeek\n"
     ]
    },
    {
     "name": "stderr",
     "output_type": "stream",
     "text": [
      "                                                                                \r"
     ]
    },
    {
     "name": "stdout",
     "output_type": "stream",
     "text": [
      "CTU-Malware-Capture-Botnet-43 http: Done\n",
      "Dataset CTU-Malware-Capture-Botnet-44\n",
      "CTU-Malware-Capture-Botnet-44 binary_netflow: Start\n",
      "CTU-Malware-Capture-Botnet-44 binary_netflow: Writing to table cyber_ctu.ctu_binetflow\n",
      "Table cyber_ctu.ctu_binetflow exists. Merging columns\n",
      "Appending to table cyber_ctu.ctu_binetflow\n"
     ]
    },
    {
     "name": "stderr",
     "output_type": "stream",
     "text": [
      "                                                                                \r"
     ]
    },
    {
     "name": "stdout",
     "output_type": "stream",
     "text": [
      "CTU-Malware-Capture-Botnet-44 binary_netflow: Done\n",
      "CTU-Malware-Capture-Botnet-44 dns: Start\n",
      "CTU-Malware-Capture-Botnet-44 dns: Writing to table cyber_ctu.ctu_zeek\n",
      "Table cyber_ctu.ctu_zeek exists. Merging columns\n",
      "Appending to table cyber_ctu.ctu_zeek\n"
     ]
    },
    {
     "name": "stderr",
     "output_type": "stream",
     "text": [
      "                                                                                \r"
     ]
    },
    {
     "name": "stdout",
     "output_type": "stream",
     "text": [
      "CTU-Malware-Capture-Botnet-44 dns: Done\n",
      "CTU-Malware-Capture-Botnet-44 http: Start\n",
      "CTU-Malware-Capture-Botnet-44 http: Writing to table cyber_ctu.ctu_zeek\n",
      "Table cyber_ctu.ctu_zeek exists. Merging columns\n",
      "Appending to table cyber_ctu.ctu_zeek\n"
     ]
    },
    {
     "name": "stderr",
     "output_type": "stream",
     "text": [
      "                                                                                \r"
     ]
    },
    {
     "name": "stdout",
     "output_type": "stream",
     "text": [
      "CTU-Malware-Capture-Botnet-44 http: Done\n",
      "Dataset CTU-Malware-Capture-Botnet-45\n",
      "CTU-Malware-Capture-Botnet-45 binary_netflow: Start\n",
      "CTU-Malware-Capture-Botnet-45 binary_netflow: Writing to table cyber_ctu.ctu_binetflow\n",
      "Table cyber_ctu.ctu_binetflow exists. Merging columns\n",
      "Appending to table cyber_ctu.ctu_binetflow\n"
     ]
    },
    {
     "name": "stderr",
     "output_type": "stream",
     "text": [
      "                                                                                \r"
     ]
    },
    {
     "name": "stdout",
     "output_type": "stream",
     "text": [
      "CTU-Malware-Capture-Botnet-45 binary_netflow: Done\n",
      "CTU-Malware-Capture-Botnet-45 dns: Start\n",
      "CTU-Malware-Capture-Botnet-45 dns: Writing to table cyber_ctu.ctu_zeek\n",
      "Table cyber_ctu.ctu_zeek exists. Merging columns\n",
      "Appending to table cyber_ctu.ctu_zeek\n"
     ]
    },
    {
     "name": "stderr",
     "output_type": "stream",
     "text": [
      "                                                                                \r"
     ]
    },
    {
     "name": "stdout",
     "output_type": "stream",
     "text": [
      "CTU-Malware-Capture-Botnet-45 dns: Done\n",
      "CTU-Malware-Capture-Botnet-45 http: Start\n",
      "CTU-Malware-Capture-Botnet-45 http: Writing to table cyber_ctu.ctu_zeek\n",
      "Table cyber_ctu.ctu_zeek exists. Merging columns\n",
      "Appending to table cyber_ctu.ctu_zeek\n"
     ]
    },
    {
     "name": "stderr",
     "output_type": "stream",
     "text": [
      "                                                                                \r"
     ]
    },
    {
     "name": "stdout",
     "output_type": "stream",
     "text": [
      "CTU-Malware-Capture-Botnet-45 http: Done\n",
      "Dataset CTU-Malware-Capture-Botnet-46\n",
      "CTU-Malware-Capture-Botnet-46 binary_netflow: Start\n",
      "CTU-Malware-Capture-Botnet-46 binary_netflow: Writing to table cyber_ctu.ctu_binetflow\n",
      "Table cyber_ctu.ctu_binetflow exists. Merging columns\n",
      "Appending to table cyber_ctu.ctu_binetflow\n"
     ]
    },
    {
     "name": "stderr",
     "output_type": "stream",
     "text": [
      "                                                                                \r"
     ]
    },
    {
     "name": "stdout",
     "output_type": "stream",
     "text": [
      "CTU-Malware-Capture-Botnet-46 binary_netflow: Done\n",
      "CTU-Malware-Capture-Botnet-46 dns: Start\n",
      "CTU-Malware-Capture-Botnet-46 dns: Writing to table cyber_ctu.ctu_zeek\n",
      "Table cyber_ctu.ctu_zeek exists. Merging columns\n",
      "Appending to table cyber_ctu.ctu_zeek\n"
     ]
    },
    {
     "name": "stderr",
     "output_type": "stream",
     "text": [
      "                                                                                \r"
     ]
    },
    {
     "name": "stdout",
     "output_type": "stream",
     "text": [
      "CTU-Malware-Capture-Botnet-46 dns: Done\n",
      "CTU-Malware-Capture-Botnet-46 http: Start\n",
      "CTU-Malware-Capture-Botnet-46 http: Writing to table cyber_ctu.ctu_zeek\n",
      "Table cyber_ctu.ctu_zeek exists. Merging columns\n",
      "Appending to table cyber_ctu.ctu_zeek\n"
     ]
    },
    {
     "name": "stderr",
     "output_type": "stream",
     "text": [
      "                                                                                \r"
     ]
    },
    {
     "name": "stdout",
     "output_type": "stream",
     "text": [
      "CTU-Malware-Capture-Botnet-46 http: Done\n",
      "Dataset CTU-Malware-Capture-Botnet-47\n",
      "CTU-Malware-Capture-Botnet-47 binary_netflow: Start\n",
      "CTU-Malware-Capture-Botnet-47 binary_netflow: Writing to table cyber_ctu.ctu_binetflow\n",
      "Table cyber_ctu.ctu_binetflow exists. Merging columns\n",
      "Appending to table cyber_ctu.ctu_binetflow\n"
     ]
    },
    {
     "name": "stderr",
     "output_type": "stream",
     "text": [
      "                                                                                \r"
     ]
    },
    {
     "name": "stdout",
     "output_type": "stream",
     "text": [
      "CTU-Malware-Capture-Botnet-47 binary_netflow: Done\n",
      "CTU-Malware-Capture-Botnet-47 dns: Start\n",
      "CTU-Malware-Capture-Botnet-47 dns: Writing to table cyber_ctu.ctu_zeek\n",
      "Table cyber_ctu.ctu_zeek exists. Merging columns\n",
      "Appending to table cyber_ctu.ctu_zeek\n"
     ]
    },
    {
     "name": "stderr",
     "output_type": "stream",
     "text": [
      "                                                                                \r"
     ]
    },
    {
     "name": "stdout",
     "output_type": "stream",
     "text": [
      "CTU-Malware-Capture-Botnet-47 dns: Done\n",
      "CTU-Malware-Capture-Botnet-47 http: Start\n",
      "CTU-Malware-Capture-Botnet-47 http: Writing to table cyber_ctu.ctu_zeek\n",
      "Table cyber_ctu.ctu_zeek exists. Merging columns\n",
      "Appending to table cyber_ctu.ctu_zeek\n"
     ]
    },
    {
     "name": "stderr",
     "output_type": "stream",
     "text": [
      "                                                                                \r"
     ]
    },
    {
     "name": "stdout",
     "output_type": "stream",
     "text": [
      "CTU-Malware-Capture-Botnet-47 http: Done\n",
      "Dataset CTU-Malware-Capture-Botnet-48\n",
      "CTU-Malware-Capture-Botnet-48 binary_netflow: Start\n",
      "CTU-Malware-Capture-Botnet-48 binary_netflow: Writing to table cyber_ctu.ctu_binetflow\n",
      "Table cyber_ctu.ctu_binetflow exists. Merging columns\n",
      "Appending to table cyber_ctu.ctu_binetflow\n"
     ]
    },
    {
     "name": "stderr",
     "output_type": "stream",
     "text": [
      "                                                                                \r"
     ]
    },
    {
     "name": "stdout",
     "output_type": "stream",
     "text": [
      "CTU-Malware-Capture-Botnet-48 binary_netflow: Done\n",
      "CTU-Malware-Capture-Botnet-48 dns: Start\n",
      "CTU-Malware-Capture-Botnet-48 dns: Writing to table cyber_ctu.ctu_zeek\n",
      "Table cyber_ctu.ctu_zeek exists. Merging columns\n",
      "Appending to table cyber_ctu.ctu_zeek\n"
     ]
    },
    {
     "name": "stderr",
     "output_type": "stream",
     "text": [
      "                                                                                \r"
     ]
    },
    {
     "name": "stdout",
     "output_type": "stream",
     "text": [
      "CTU-Malware-Capture-Botnet-48 dns: Done\n",
      "CTU-Malware-Capture-Botnet-48 http: Start\n",
      "CTU-Malware-Capture-Botnet-48 http: Writing to table cyber_ctu.ctu_zeek\n",
      "Table cyber_ctu.ctu_zeek exists. Merging columns\n",
      "Appending to table cyber_ctu.ctu_zeek\n"
     ]
    },
    {
     "name": "stderr",
     "output_type": "stream",
     "text": [
      "                                                                                \r"
     ]
    },
    {
     "name": "stdout",
     "output_type": "stream",
     "text": [
      "CTU-Malware-Capture-Botnet-48 http: Done\n",
      "Dataset CTU-Malware-Capture-Botnet-49\n",
      "CTU-Malware-Capture-Botnet-49 binary_netflow: Start\n",
      "CTU-Malware-Capture-Botnet-49 binary_netflow: Writing to table cyber_ctu.ctu_binetflow\n",
      "Table cyber_ctu.ctu_binetflow exists. Merging columns\n",
      "Appending to table cyber_ctu.ctu_binetflow\n"
     ]
    },
    {
     "name": "stderr",
     "output_type": "stream",
     "text": [
      "                                                                                \r"
     ]
    },
    {
     "name": "stdout",
     "output_type": "stream",
     "text": [
      "CTU-Malware-Capture-Botnet-49 binary_netflow: Done\n",
      "CTU-Malware-Capture-Botnet-49 dns: Start\n",
      "CTU-Malware-Capture-Botnet-49 dns: Writing to table cyber_ctu.ctu_zeek\n",
      "Table cyber_ctu.ctu_zeek exists. Merging columns\n",
      "Appending to table cyber_ctu.ctu_zeek\n"
     ]
    },
    {
     "name": "stderr",
     "output_type": "stream",
     "text": [
      "                                                                                \r"
     ]
    },
    {
     "name": "stdout",
     "output_type": "stream",
     "text": [
      "CTU-Malware-Capture-Botnet-49 dns: Done\n",
      "CTU-Malware-Capture-Botnet-49 http: Start\n",
      "CTU-Malware-Capture-Botnet-49 http: Writing to table cyber_ctu.ctu_zeek\n",
      "Table cyber_ctu.ctu_zeek exists. Merging columns\n",
      "Appending to table cyber_ctu.ctu_zeek\n"
     ]
    },
    {
     "name": "stderr",
     "output_type": "stream",
     "text": [
      "                                                                                \r"
     ]
    },
    {
     "name": "stdout",
     "output_type": "stream",
     "text": [
      "CTU-Malware-Capture-Botnet-49 http: Done\n",
      "Dataset CTU-Malware-Capture-Botnet-50\n",
      "CTU-Malware-Capture-Botnet-50 binary_netflow: Start\n",
      "CTU-Malware-Capture-Botnet-50 binary_netflow: Writing to table cyber_ctu.ctu_binetflow\n",
      "Table cyber_ctu.ctu_binetflow exists. Merging columns\n",
      "Appending to table cyber_ctu.ctu_binetflow\n"
     ]
    },
    {
     "name": "stderr",
     "output_type": "stream",
     "text": [
      "                                                                                \r"
     ]
    },
    {
     "name": "stdout",
     "output_type": "stream",
     "text": [
      "CTU-Malware-Capture-Botnet-50 binary_netflow: Done\n",
      "CTU-Malware-Capture-Botnet-50 dns: Start\n",
      "CTU-Malware-Capture-Botnet-50 dns: Writing to table cyber_ctu.ctu_zeek\n",
      "Table cyber_ctu.ctu_zeek exists. Merging columns\n",
      "Appending to table cyber_ctu.ctu_zeek\n"
     ]
    },
    {
     "name": "stderr",
     "output_type": "stream",
     "text": [
      "                                                                                \r"
     ]
    },
    {
     "name": "stdout",
     "output_type": "stream",
     "text": [
      "CTU-Malware-Capture-Botnet-50 dns: Done\n",
      "CTU-Malware-Capture-Botnet-50 http: Start\n"
     ]
    },
    {
     "name": "stderr",
     "output_type": "stream",
     "text": [
      "                                                                                \r"
     ]
    },
    {
     "name": "stdout",
     "output_type": "stream",
     "text": [
      "CTU-Malware-Capture-Botnet-50 http: Writing to table cyber_ctu.ctu_zeek\n",
      "Table cyber_ctu.ctu_zeek exists. Merging columns\n",
      "Appending to table cyber_ctu.ctu_zeek\n"
     ]
    },
    {
     "name": "stderr",
     "output_type": "stream",
     "text": [
      "                                                                                \r"
     ]
    },
    {
     "name": "stdout",
     "output_type": "stream",
     "text": [
      "CTU-Malware-Capture-Botnet-50 http: Done\n",
      "Dataset CTU-Malware-Capture-Botnet-51\n",
      "CTU-Malware-Capture-Botnet-51 binary_netflow: Start\n",
      "CTU-Malware-Capture-Botnet-51 binary_netflow: Writing to table cyber_ctu.ctu_binetflow\n",
      "Table cyber_ctu.ctu_binetflow exists. Merging columns\n",
      "Appending to table cyber_ctu.ctu_binetflow\n"
     ]
    },
    {
     "name": "stderr",
     "output_type": "stream",
     "text": [
      "                                                                                \r"
     ]
    },
    {
     "name": "stdout",
     "output_type": "stream",
     "text": [
      "CTU-Malware-Capture-Botnet-51 binary_netflow: Done\n",
      "CTU-Malware-Capture-Botnet-51 dns: Start\n",
      "CTU-Malware-Capture-Botnet-51 dns: Writing to table cyber_ctu.ctu_zeek\n",
      "Table cyber_ctu.ctu_zeek exists. Merging columns\n",
      "Appending to table cyber_ctu.ctu_zeek\n"
     ]
    },
    {
     "name": "stderr",
     "output_type": "stream",
     "text": [
      "                                                                                \r"
     ]
    },
    {
     "name": "stdout",
     "output_type": "stream",
     "text": [
      "CTU-Malware-Capture-Botnet-51 dns: Done\n",
      "CTU-Malware-Capture-Botnet-51 http: Start\n",
      "CTU-Malware-Capture-Botnet-51 http: Writing to table cyber_ctu.ctu_zeek\n",
      "Table cyber_ctu.ctu_zeek exists. Merging columns\n",
      "Appending to table cyber_ctu.ctu_zeek\n"
     ]
    },
    {
     "name": "stderr",
     "output_type": "stream",
     "text": [
      "                                                                                \r"
     ]
    },
    {
     "name": "stdout",
     "output_type": "stream",
     "text": [
      "CTU-Malware-Capture-Botnet-51 http: Done\n",
      "Dataset CTU-Malware-Capture-Botnet-52\n",
      "CTU-Malware-Capture-Botnet-52 binary_netflow: Start\n",
      "CTU-Malware-Capture-Botnet-52 binary_netflow: Writing to table cyber_ctu.ctu_binetflow\n",
      "Table cyber_ctu.ctu_binetflow exists. Merging columns\n",
      "Appending to table cyber_ctu.ctu_binetflow\n"
     ]
    },
    {
     "name": "stderr",
     "output_type": "stream",
     "text": [
      "                                                                                \r"
     ]
    },
    {
     "name": "stdout",
     "output_type": "stream",
     "text": [
      "CTU-Malware-Capture-Botnet-52 binary_netflow: Done\n",
      "CTU-Malware-Capture-Botnet-52 dns: Start\n",
      "CTU-Malware-Capture-Botnet-52 dns: Writing to table cyber_ctu.ctu_zeek\n",
      "Table cyber_ctu.ctu_zeek exists. Merging columns\n",
      "Appending to table cyber_ctu.ctu_zeek\n"
     ]
    },
    {
     "name": "stderr",
     "output_type": "stream",
     "text": [
      "                                                                                \r"
     ]
    },
    {
     "name": "stdout",
     "output_type": "stream",
     "text": [
      "CTU-Malware-Capture-Botnet-52 dns: Done\n",
      "CTU-Malware-Capture-Botnet-52 http: Start\n",
      "CTU-Malware-Capture-Botnet-52 http: Writing to table cyber_ctu.ctu_zeek\n",
      "Table cyber_ctu.ctu_zeek exists. Merging columns\n",
      "Appending to table cyber_ctu.ctu_zeek\n",
      "CTU-Malware-Capture-Botnet-52 http: Done\n",
      "Dataset CTU-Malware-Capture-Botnet-53\n",
      "CTU-Malware-Capture-Botnet-53 binary_netflow: Start\n",
      "CTU-Malware-Capture-Botnet-53 binary_netflow: Writing to table cyber_ctu.ctu_binetflow\n",
      "Table cyber_ctu.ctu_binetflow exists. Merging columns\n",
      "Appending to table cyber_ctu.ctu_binetflow\n"
     ]
    },
    {
     "name": "stderr",
     "output_type": "stream",
     "text": [
      "                                                                                \r"
     ]
    },
    {
     "name": "stdout",
     "output_type": "stream",
     "text": [
      "CTU-Malware-Capture-Botnet-53 binary_netflow: Done\n",
      "CTU-Malware-Capture-Botnet-53 dns: Start\n",
      "CTU-Malware-Capture-Botnet-53 dns: Writing to table cyber_ctu.ctu_zeek\n",
      "Table cyber_ctu.ctu_zeek exists. Merging columns\n",
      "Appending to table cyber_ctu.ctu_zeek\n"
     ]
    },
    {
     "name": "stderr",
     "output_type": "stream",
     "text": [
      "                                                                                \r"
     ]
    },
    {
     "name": "stdout",
     "output_type": "stream",
     "text": [
      "CTU-Malware-Capture-Botnet-53 dns: Done\n",
      "CTU-Malware-Capture-Botnet-53 http: Start\n",
      "CTU-Malware-Capture-Botnet-53 http: Writing to table cyber_ctu.ctu_zeek\n",
      "Table cyber_ctu.ctu_zeek exists. Merging columns\n",
      "Appending to table cyber_ctu.ctu_zeek\n"
     ]
    },
    {
     "name": "stderr",
     "output_type": "stream",
     "text": [
      "                                                                                \r"
     ]
    },
    {
     "name": "stdout",
     "output_type": "stream",
     "text": [
      "CTU-Malware-Capture-Botnet-53 http: Done\n"
     ]
    }
   ],
   "source": [
    "\n",
    "import IngestPipeline as ingest\n",
    "\n",
    "ingest.IngestPipeline.ingest(\"s3a://go01-demo/user/cduby/ctu13_2024_3/\")"
   ]
  },
  {
   "cell_type": "markdown",
   "id": "cf8cf8ae-7fbf-4127-9889-70f33cb914e5",
   "metadata": {},
   "source": [
    "##### "
   ]
  },
  {
   "cell_type": "markdown",
   "id": "25864ab2-bbe1-4ed9-82ca-354cbfd7c9e5",
   "metadata": {},
   "source": [
    "import IngestPipeline as ingest\n",
    "\n",
    "binetflow_df = ingest.IngestPipeline.ingest_netflow()\n",
    "binetflow_df.filter(binetflow_df.infected == True).show()"
   ]
  },
  {
   "cell_type": "code",
   "execution_count": 6,
   "id": "8a98e2fa-3716-461b-9efd-a65ca67fe529",
   "metadata": {},
   "outputs": [
    {
     "name": "stdout",
     "output_type": "stream",
     "text": [
      "ParseResult(scheme='s3a', netloc='go01-demo', path='/user/cduby/ctu13_2024_1/', params='', query='', fragment='')\n",
      "s3a://go01-demo\n"
     ]
    }
   ],
   "source": [
    "from urllib.parse import urlparse\n",
    "\n",
    "components = urlparse(\"s3a://go01-demo/user/cduby/ctu13_2024_1/\")\n",
    "print(components)\n",
    "bucket_orig = \"%s://%s\" % (components.scheme, components.netloc)\n",
    "print(bucket_orig)"
   ]
  },
  {
   "cell_type": "code",
   "execution_count": 4,
   "id": "fcdc4a7e-6662-4315-9351-162e7b3c615c",
   "metadata": {},
   "outputs": [
    {
     "name": "stdout",
     "output_type": "stream",
     "text": [
      "42 Dns: Start\n",
      "CTU-Malware-Capture-Botnet-42 dns: Start\n"
     ]
    },
    {
     "name": "stderr",
     "output_type": "stream",
     "text": [
      "                                                                                \r"
     ]
    },
    {
     "name": "stdout",
     "output_type": "stream",
     "text": [
      "42 Dns: Writing\n",
      "CTU-Malware-Capture-Botnet-42 dns: Writing to table cduby_scratch.zeek_log_events\n",
      "Creating table cduby_scratch.zeek_log_events\n"
     ]
    },
    {
     "name": "stderr",
     "output_type": "stream",
     "text": [
      "                                                                                \r"
     ]
    },
    {
     "name": "stdout",
     "output_type": "stream",
     "text": [
      "CTU-Malware-Capture-Botnet-42 dns: Done\n",
      "42 Dns : Done\n",
      "42 Http: Start\n",
      "CTU-Malware-Capture-Botnet-42 http: Start\n"
     ]
    },
    {
     "name": "stderr",
     "output_type": "stream",
     "text": [
      "                                                                                \r"
     ]
    },
    {
     "name": "stdout",
     "output_type": "stream",
     "text": [
      "42 Http: Writing\n",
      "CTU-Malware-Capture-Botnet-42 http: Writing to table cduby_scratch.zeek_log_events\n",
      "Table cduby_scratch.zeek_log_events exists. Merging columns\n",
      "Appending to table cduby_scratch.zeek_log_events\n"
     ]
    },
    {
     "name": "stderr",
     "output_type": "stream",
     "text": [
      "                                                                                \r"
     ]
    },
    {
     "name": "stdout",
     "output_type": "stream",
     "text": [
      "CTU-Malware-Capture-Botnet-42 http: Done\n",
      "42 Http : Done\n"
     ]
    }
   ],
   "source": [
    "import IngestPipeline as ingest\n",
    "from ZeekDns import ZeekDns\n",
    "from ZeekHttp import ZeekHttp\n",
    "\n",
    "log_bucket_path = \"s3a://go01-demo/user/cduby/ctu13_2024_3/\"\n",
    "spark = ingest.IngestPipeline.createSparkSession(log_bucket_path)\n",
    "zeek_table = \"cduby_scratch.zeek_log_events\"\n",
    "\n",
    "scenario_num = 42\n",
    "dataset_name = 'CTU-Malware-Capture-Botnet-%d' % (scenario_num)\n",
    "\n",
    "print(\"%d Dns: Start\" %(scenario_num))\n",
    "dns_dataframe = ZeekDns.ingest(spark, log_bucket_path, dataset_name)\n",
    "print(\"%d Dns: Writing\" %(scenario_num))\n",
    "ingest.IngestPipeline.writeDataFrame(spark, dataset_name, ZeekDns.SOURCE_NAME, zeek_table, dns_dataframe)\n",
    "print(\"%d Dns : Done\" %(scenario_num))\n",
    "      \n",
    "print(\"%d Http: Start\" %(scenario_num))\n",
    "http_dataframe = ZeekHttp.ingest(spark, log_bucket_path, dataset_name)\n",
    "print(\"%d Http: Writing\" %(scenario_num))\n",
    "ingest.IngestPipeline.writeDataFrame(spark, dataset_name, ZeekHttp.SOURCE_NAME, zeek_table, http_dataframe)\n",
    "print(\"%d Http : Done\" %(scenario_num))\n"
   ]
  },
  {
   "cell_type": "code",
   "execution_count": 4,
   "id": "044f7c97-c9a5-44d2-b30d-bfd89a733dcf",
   "metadata": {},
   "outputs": [
    {
     "name": "stdout",
     "output_type": "stream",
     "text": [
      "cyber_ctu.ctu_binetflow\n",
      "cyber_ctu.ctu_zeek\n"
     ]
    }
   ],
   "source": [
    "database_name = \"cyber_ctu\"\n",
    "binetflow_table = \".\".join([database_name, \"ctu_binetflow\"])\n",
    "zeek_table = \".\".join([database_name, \"ctu_zeek\"])\n",
    "\n",
    "print(binetflow_table)\n",
    "print(zeek_table)"
   ]
  },
  {
   "cell_type": "code",
   "execution_count": null,
   "id": "447727d4-0f06-4806-8273-8a3131244cdb",
   "metadata": {},
   "outputs": [],
   "source": []
  }
 ],
 "metadata": {
  "kernelspec": {
   "display_name": "Python 3 (ipykernel)",
   "language": "python",
   "name": "python3"
  },
  "language_info": {
   "codemirror_mode": {
    "name": "ipython",
    "version": 3
   },
   "file_extension": ".py",
   "mimetype": "text/x-python",
   "name": "python",
   "nbconvert_exporter": "python",
   "pygments_lexer": "ipython3",
   "version": "3.10.13"
  }
 },
 "nbformat": 4,
 "nbformat_minor": 5
}
